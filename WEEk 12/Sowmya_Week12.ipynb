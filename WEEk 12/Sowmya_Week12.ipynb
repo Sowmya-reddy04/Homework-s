{
  "nbformat": 4,
  "nbformat_minor": 0,
  "metadata": {
    "colab": {
      "provenance": []
    },
    "kernelspec": {
      "name": "python3",
      "display_name": "Python 3"
    },
    "language_info": {
      "name": "python"
    }
  },
  "cells": [
    {
      "cell_type": "code",
      "execution_count": 1,
      "metadata": {
        "colab": {
          "base_uri": "https://localhost:8080/"
        },
        "id": "bSAzZ5d6EVjW",
        "outputId": "e109d139-c3b4-4f6c-f81b-63637a39077c"
      },
      "outputs": [
        {
          "output_type": "stream",
          "name": "stderr",
          "text": [
            "/usr/local/lib/python3.11/dist-packages/keras/src/layers/core/dense.py:87: UserWarning: Do not pass an `input_shape`/`input_dim` argument to a layer. When using Sequential models, prefer using an `Input(shape)` object as the first layer in the model instead.\n",
            "  super().__init__(activity_regularizer=activity_regularizer, **kwargs)\n"
          ]
        },
        {
          "output_type": "stream",
          "name": "stdout",
          "text": [
            "   Data size         Configuration  Training error  Validation error  \\\n",
            "0       1000  1 layer(s) x 4 nodes          0.0682            0.0639   \n",
            "1       1000  2 layer(s) x 4 nodes          0.0323            0.0377   \n",
            "2      10000  1 layer(s) x 4 nodes          0.0177            0.0141   \n",
            "3      10000  2 layer(s) x 4 nodes          0.0168            0.0129   \n",
            "4     100000  1 layer(s) x 4 nodes          0.0087            0.0077   \n",
            "5     100000  2 layer(s) x 4 nodes          0.0105            0.0122   \n",
            "\n",
            "   Execution time (s)  \n",
            "0                3.11  \n",
            "1                3.04  \n",
            "2                8.91  \n",
            "3                9.38  \n",
            "4               64.67  \n",
            "5               76.09  \n"
          ]
        }
      ],
      "source": [
        "import pandas as pd\n",
        "import numpy as np\n",
        "import time\n",
        "from sklearn.model_selection import train_test_split\n",
        "from sklearn.preprocessing import StandardScaler\n",
        "from tensorflow.keras.models import Sequential\n",
        "from tensorflow.keras.layers import Dense\n",
        "from tensorflow.keras.optimizers import Adam\n",
        "\n",
        "# Load and prepare data\n",
        "df = pd.read_csv(\"dfdata.csv\")\n",
        "X = df.drop(\"outcome\", axis=1)\n",
        "y = df[\"outcome\"]\n",
        "\n",
        "# Normalize input features\n",
        "scaler = StandardScaler()\n",
        "X_scaled = scaler.fit_transform(X)\n",
        "\n",
        "# Function to build models\n",
        "def build_model(layers=1, nodes=4, input_dim=8):\n",
        "    model = Sequential()\n",
        "    model.add(Dense(nodes, activation='relu', input_dim=input_dim))\n",
        "    for _ in range(layers - 1):\n",
        "        model.add(Dense(nodes, activation='relu'))\n",
        "    model.add(Dense(1, activation='sigmoid'))\n",
        "    model.compile(optimizer=Adam(0.01), loss='binary_crossentropy', metrics=['accuracy'])\n",
        "    return model\n",
        "\n",
        "# Dataset sizes and configurations\n",
        "sizes = [1000, 10000, 100000]\n",
        "configs = [(1, 4), (2, 4)]\n",
        "\n",
        "results = []\n",
        "\n",
        "for size in sizes:\n",
        "    # If size > data, replicate rows\n",
        "    reps = int(np.ceil(size / len(X_scaled)))\n",
        "    X_sampled = np.tile(X_scaled, (reps, 1))[:size]\n",
        "    y_sampled = np.tile(y.values, reps)[:size]\n",
        "\n",
        "    # Train/test split\n",
        "    X_train, X_val, y_train, y_val = train_test_split(X_sampled, y_sampled, test_size=0.2, random_state=42)\n",
        "\n",
        "    for layers, nodes in configs:\n",
        "        model = build_model(layers=layers, nodes=nodes)\n",
        "        start_time = time.time()\n",
        "        history = model.fit(X_train, y_train, epochs=10, batch_size=32, verbose=0, validation_data=(X_val, y_val))\n",
        "        end_time = time.time()\n",
        "\n",
        "        train_error = history.history['loss'][-1]\n",
        "        val_error = history.history['val_loss'][-1]\n",
        "        exec_time = round(end_time - start_time, 2)\n",
        "\n",
        "        results.append({\n",
        "            \"Data size\": size,\n",
        "            \"Configuration\": f\"{layers} layer(s) x {nodes} nodes\",\n",
        "            \"Training error\": round(train_error, 4),\n",
        "            \"Validation error\": round(val_error, 4),\n",
        "            \"Execution time (s)\": exec_time\n",
        "        })\n",
        "\n",
        "# Display results\n",
        "results_df = pd.DataFrame(results)\n",
        "print(results_df)\n"
      ]
    }
  ]
}